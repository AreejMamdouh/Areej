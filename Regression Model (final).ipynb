{
 "cells": [
  {
   "cell_type": "code",
   "execution_count": 43,
   "metadata": {},
   "outputs": [],
   "source": [
    "import numpy as np \n",
    "import matplotlib as plt\n",
    "import pandas as pd\n",
    "import seaborn as sns\n",
    "%matplotlib inline"
   ]
  },
  {
   "cell_type": "code",
   "execution_count": 116,
   "metadata": {},
   "outputs": [
    {
     "data": {
      "text/html": [
       "<div>\n",
       "<style scoped>\n",
       "    .dataframe tbody tr th:only-of-type {\n",
       "        vertical-align: middle;\n",
       "    }\n",
       "\n",
       "    .dataframe tbody tr th {\n",
       "        vertical-align: top;\n",
       "    }\n",
       "\n",
       "    .dataframe thead th {\n",
       "        text-align: right;\n",
       "    }\n",
       "</style>\n",
       "<table border=\"1\" class=\"dataframe\">\n",
       "  <thead>\n",
       "    <tr style=\"text-align: right;\">\n",
       "      <th></th>\n",
       "      <th>Day Temperature C</th>\n",
       "      <th>Night Temperature C</th>\n",
       "      <th>Humidity</th>\n",
       "      <th>Soil pH</th>\n",
       "      <th>Amount of fruit per plant kg</th>\n",
       "    </tr>\n",
       "  </thead>\n",
       "  <tbody>\n",
       "    <tr>\n",
       "      <th>0</th>\n",
       "      <td>23.0</td>\n",
       "      <td>17.0</td>\n",
       "      <td>70</td>\n",
       "      <td>7.00</td>\n",
       "      <td>15.000</td>\n",
       "    </tr>\n",
       "    <tr>\n",
       "      <th>1</th>\n",
       "      <td>23.9</td>\n",
       "      <td>17.0</td>\n",
       "      <td>70</td>\n",
       "      <td>7.00</td>\n",
       "      <td>14.750</td>\n",
       "    </tr>\n",
       "    <tr>\n",
       "      <th>2</th>\n",
       "      <td>24.8</td>\n",
       "      <td>17.0</td>\n",
       "      <td>70</td>\n",
       "      <td>7.00</td>\n",
       "      <td>14.500</td>\n",
       "    </tr>\n",
       "    <tr>\n",
       "      <th>3</th>\n",
       "      <td>25.7</td>\n",
       "      <td>17.0</td>\n",
       "      <td>70</td>\n",
       "      <td>7.00</td>\n",
       "      <td>14.250</td>\n",
       "    </tr>\n",
       "    <tr>\n",
       "      <th>4</th>\n",
       "      <td>26.6</td>\n",
       "      <td>17.0</td>\n",
       "      <td>70</td>\n",
       "      <td>7.00</td>\n",
       "      <td>14.000</td>\n",
       "    </tr>\n",
       "    <tr>\n",
       "      <th>...</th>\n",
       "      <td>...</td>\n",
       "      <td>...</td>\n",
       "      <td>...</td>\n",
       "      <td>...</td>\n",
       "      <td>...</td>\n",
       "    </tr>\n",
       "    <tr>\n",
       "      <th>94</th>\n",
       "      <td>23.0</td>\n",
       "      <td>17.6</td>\n",
       "      <td>58</td>\n",
       "      <td>6.50</td>\n",
       "      <td>14.125</td>\n",
       "    </tr>\n",
       "    <tr>\n",
       "      <th>95</th>\n",
       "      <td>28.3</td>\n",
       "      <td>17.0</td>\n",
       "      <td>90</td>\n",
       "      <td>6.67</td>\n",
       "      <td>13.750</td>\n",
       "    </tr>\n",
       "    <tr>\n",
       "      <th>96</th>\n",
       "      <td>30.0</td>\n",
       "      <td>18.0</td>\n",
       "      <td>80</td>\n",
       "      <td>7.26</td>\n",
       "      <td>13.750</td>\n",
       "    </tr>\n",
       "    <tr>\n",
       "      <th>97</th>\n",
       "      <td>23.9</td>\n",
       "      <td>16.0</td>\n",
       "      <td>75</td>\n",
       "      <td>7.00</td>\n",
       "      <td>14.125</td>\n",
       "    </tr>\n",
       "    <tr>\n",
       "      <th>98</th>\n",
       "      <td>21.2</td>\n",
       "      <td>19.2</td>\n",
       "      <td>55</td>\n",
       "      <td>6.30</td>\n",
       "      <td>12.987</td>\n",
       "    </tr>\n",
       "  </tbody>\n",
       "</table>\n",
       "<p>99 rows × 5 columns</p>\n",
       "</div>"
      ],
      "text/plain": [
       "    Day Temperature C  Night Temperature C  Humidity   Soil pH  \\\n",
       "0                23.0                 17.0         70     7.00   \n",
       "1                23.9                 17.0         70     7.00   \n",
       "2                24.8                 17.0         70     7.00   \n",
       "3                25.7                 17.0         70     7.00   \n",
       "4                26.6                 17.0         70     7.00   \n",
       "..                ...                  ...        ...      ...   \n",
       "94               23.0                 17.6         58     6.50   \n",
       "95               28.3                 17.0         90     6.67   \n",
       "96               30.0                 18.0         80     7.26   \n",
       "97               23.9                 16.0         75     7.00   \n",
       "98               21.2                 19.2         55     6.30   \n",
       "\n",
       "    Amount of fruit per plant kg  \n",
       "0                         15.000  \n",
       "1                         14.750  \n",
       "2                         14.500  \n",
       "3                         14.250  \n",
       "4                         14.000  \n",
       "..                           ...  \n",
       "94                        14.125  \n",
       "95                        13.750  \n",
       "96                        13.750  \n",
       "97                        14.125  \n",
       "98                        12.987  \n",
       "\n",
       "[99 rows x 5 columns]"
      ]
     },
     "execution_count": 116,
     "metadata": {},
     "output_type": "execute_result"
    }
   ],
   "source": [
    "#importing the dataset and defining the dependent and independent variables\n",
    "dataset = pd.read_csv(\"E:\\Capstone G3 Sources\\Model Training Data2.csv\")\n",
    "X = dataset.iloc[:,:-1]\n",
    "y = dataset.iloc[:,4]\n",
    "dataset"
   ]
  },
  {
   "cell_type": "code",
   "execution_count": 117,
   "metadata": {},
   "outputs": [
    {
     "data": {
      "text/plain": [
       "array([13.75 , 13.75 , 13.875, 14.75 , 14.   , 13.75 , 14.75 , 14.5  ,\n",
       "       13.   , 13.   , 14.125, 14.   , 14.375, 14.   , 14.625, 13.25 ,\n",
       "       14.   , 14.25 , 14.25 , 14.125, 14.125, 14.125, 14.   , 14.   ,\n",
       "       13.5  ])"
      ]
     },
     "execution_count": 117,
     "metadata": {},
     "output_type": "execute_result"
    }
   ],
   "source": [
    "#splitting the data for training and testing and putting it into arrays the model can interpret\n",
    "from sklearn.model_selection import train_test_split\n",
    "X_train, X_test, y_train, y_test = train_test_split(X, y, test_size = 0.25, random_state = 5)\n",
    "X_train = np.array(X_train)\n",
    "X_test = np.array(X_test)\n",
    "y_train = np.array(y_train)\n",
    "y_test = np.array(y_test)\n",
    "y_test"
   ]
  },
  {
   "cell_type": "code",
   "execution_count": 68,
   "metadata": {},
   "outputs": [
    {
     "data": {
      "text/plain": [
       "(25, 4)"
      ]
     },
     "execution_count": 68,
     "metadata": {},
     "output_type": "execute_result"
    }
   ],
   "source": [
    "X_test.shape"
   ]
  },
  {
   "cell_type": "code",
   "execution_count": 118,
   "metadata": {},
   "outputs": [
    {
     "data": {
      "text/plain": [
       "array([[13.75 , 13.75 , 13.875, 14.75 , 14.   , 13.75 , 14.75 , 14.5  ,\n",
       "        13.   , 13.   , 14.125, 14.   , 14.375, 14.   , 14.625, 13.25 ,\n",
       "        14.   , 14.25 , 14.25 , 14.125, 14.125, 14.125, 14.   , 14.   ,\n",
       "        13.5  ]])"
      ]
     },
     "execution_count": 118,
     "metadata": {},
     "output_type": "execute_result"
    }
   ],
   "source": [
    "#reshaping all the data arrays into 2D arrays\n",
    "np.reshape(X_train, (-1, 296))\n",
    "np.reshape (y_train, (-1, 74))\n",
    "np.reshape (X_test, (-1, 25))\n",
    "np.reshape (y_test, (-1, 25))"
   ]
  },
  {
   "cell_type": "code",
   "execution_count": 127,
   "metadata": {},
   "outputs": [
    {
     "data": {
      "text/plain": [
       "LinearRegression()"
      ]
     },
     "execution_count": 127,
     "metadata": {},
     "output_type": "execute_result"
    }
   ],
   "source": [
    "#training the model with the training data\n",
    "from sklearn.linear_model import LinearRegression\n",
    "regressor = LinearRegression()\n",
    "regressor.fit(X_train, y_train)"
   ]
  },
  {
   "cell_type": "code",
   "execution_count": 100,
   "metadata": {},
   "outputs": [
    {
     "data": {
      "text/plain": [
       "array([[13.84204127, 14.08973494, 13.78971675, 14.27720015, 14.28679004,\n",
       "        14.07937338, 14.17896113, 14.29119622, 14.16464103, 13.78510397,\n",
       "        14.01981272, 13.83826195, 13.99609424, 14.21255514, 14.24265102,\n",
       "        13.88664762, 14.00531891, 14.03082818, 14.1855704 , 14.05386411,\n",
       "        14.02279271, 13.93454507, 14.40673596, 13.93373777, 13.98309027]])"
      ]
     },
     "execution_count": 100,
     "metadata": {},
     "output_type": "execute_result"
    }
   ],
   "source": [
    "#reshaping the first results into 2D array\n",
    "y_predict = regressor.predict(X_test)\n",
    "np.reshape (y_predict, (-1, 25))"
   ]
  },
  {
   "cell_type": "code",
   "execution_count": 76,
   "metadata": {},
   "outputs": [
    {
     "data": {
      "text/plain": [
       "1"
      ]
     },
     "execution_count": 76,
     "metadata": {},
     "output_type": "execute_result"
    }
   ],
   "source": [
    "len(y_predict)"
   ]
  },
  {
   "cell_type": "code",
   "execution_count": 128,
   "metadata": {},
   "outputs": [
    {
     "name": "stdout",
     "output_type": "stream",
     "text": [
      "Mean absolute error = 0.31\n",
      "Mean squared error = 0.17\n",
      "Median absolute error = 0.22\n",
      "Explain variance score = 0.2\n",
      "R2 score = 0.18\n"
     ]
    }
   ],
   "source": [
    "#finding R2 to determine the accuracy of the predictions\n",
    "import sklearn.metrics as sm\n",
    "print(\"Mean absolute error =\", round(sm.mean_absolute_error(y_test, y_predict), 2)) \n",
    "print(\"Mean squared error =\", round(sm.mean_squared_error(y_test, y_predict), 2)) \n",
    "print(\"Median absolute error =\", round(sm.median_absolute_error(y_test, y_predict), 2)) \n",
    "print(\"Explain variance score =\", round(sm.explained_variance_score(y_test, y_predict), 2)) \n",
    "print(\"R2 score =\", round(sm.r2_score(y_test, y_predict), 2))"
   ]
  },
  {
   "cell_type": "code",
   "execution_count": 98,
   "metadata": {},
   "outputs": [
    {
     "data": {
      "text/plain": [
       "array([13.81330993])"
      ]
     },
     "execution_count": 98,
     "metadata": {},
     "output_type": "execute_result"
    }
   ],
   "source": [
    "#testing new data on the model\n",
    "result1 = regressor.predict([[21, 19, 55, 6]])\n",
    "result1"
   ]
  }
 ],
 "metadata": {
  "kernelspec": {
   "display_name": "Python 3",
   "language": "python",
   "name": "python3"
  },
  "language_info": {
   "codemirror_mode": {
    "name": "ipython",
    "version": 3
   },
   "file_extension": ".py",
   "mimetype": "text/x-python",
   "name": "python",
   "nbconvert_exporter": "python",
   "pygments_lexer": "ipython3",
   "version": "3.8.5"
  }
 },
 "nbformat": 4,
 "nbformat_minor": 4
}
